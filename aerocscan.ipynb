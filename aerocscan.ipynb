{
 "cells": [
  {
   "attachments": {},
   "cell_type": "markdown",
   "id": "c7d0c3d1-348b-4b93-b31f-7bdaa5699f0f",
   "metadata": {},
   "source": [
    "# AerOC Scan <img src=\"img/aerocscan.png\" width=\"200\" align=\"right\" />\n",
    "\n",
    "AerOC Scan is a Python package designed to download, filter, and correct AERONET-OC (Aerosol Robotic Network-Ocean Color) data. AERONET-OC comprises a global network of autonomous above-water radiometers located on fixed platforms in ocean, coastal, and inland waters. Here, nLW (normalized water-leaving radiance) measurements are selected based on the date and a timeframe of approximately 3-hours around the satellite overpass. These measurements are converted to Remote Sensing Reflectance and corrected according to the satellite spectral bands. In this version (v1), AerOC Scan supports Sentinel-2, Sentinel-3, Landsat-8/9, and PACE.\n",
    "\n",
    "Author: Paulino (Nov-29-2024)\n",
    "\n",
    "The quality-checking criteria can be accessed in: Paulino et al. 2025. PACE (Plankton, Aerosol, Cloud, ocean Ecosystem): Preliminary analysis of the consistency of remote sensing reflectance products over aquatic systems. (Under Review). "
   ]
  },
  {
   "cell_type": "markdown",
   "id": "43dbf721-8b7f-4e2a-9dd1-4a52b84f6a37",
   "metadata": {},
   "source": [
    "### Input Data:\n",
    "\n",
    "* *dest*: output directory;\n",
    "* *level*: AERONET-OC level (15 or 20);\n",
    "* *start*: start date (yyyy-mm-dd);\n",
    "* *end*: end date (yyyy-mm-dd);\n",
    "* *id*: site id (or 'all');\n",
    "* *local_time*: local time (hh:mm:ss);\n",
    "* *sensor_type*: sensor type (Optional) ('S2A_MSI', 'S2B_MSI', 'S3A_OLCI', 'S3B_OLCI', 'L8_OLI', 'L9_OLI2', or 'PACE_OCI').\n",
    "\n",
    "### Outputs:\n",
    "\n",
    "* *0-rawdata*: data from AERONET-OC;\n",
    "* *1-shapefile*: site locations in .shp;\n",
    "* *2-plots*: median spectra from AERONET-OC Rrs;\n",
    "* *3-rrs_median*: AERONET-OC Rrs classified with OWTs;\n",
    "* *4-X*: Rrs spectra corrected by the sensor."
   ]
  },
  {
   "cell_type": "markdown",
   "id": "b0a4605c-eb45-4f6e-b02f-eb3d71addea0",
   "metadata": {},
   "source": [
    "<details>\n",
    "  <summary> AERONET-OC Site IDs</summary>\n",
    "  0: 'AAOT'; \n",
    "  1: 'ARIAKE_TOWER_2';\n",
    "  2: 'Blyth_NOAH';\n",
    "  3: 'COVE_SEAPRISM';\n",
    "  4: 'Galata_Platform';\n",
    "  5: 'Grizzly_Bay';\n",
    "  6: 'Helsinki_Lighthouse';\n",
    "  7: 'KAUST_Campus';\n",
    "  8: 'Lake_Okeechobee';\n",
    "  9: 'Lucinda';\n",
    "  10: 'PLOCAN_Tower';\n",
    "  11: 'San_Marco_Platform';\n",
    "  12: 'South_Greenbay';\n",
    "  13: 'USC_SEAPRISM_2';\n",
    "  14: 'Zeebrugge-MOW1';\n",
    "  15: 'Abu_Al_Bukhoosh';\n",
    "  16: 'Bahia_Blanca';\n",
    "  17: 'Casablanca_Platform';\n",
    "  18: 'Frying_Pan_Tower';\n",
    "  19: 'Gloria';\n",
    "  20: 'Gustav_Dalen_Tower';\n",
    "  21: 'Ieodo_Station';\n",
    "  22: 'Kemigawa_Offshore';\n",
    "  23: 'Lake_Okeechobee_N';\n",
    "  24: 'MVCO';\n",
    "  25: 'RdP-EsNM';\n",
    "  26: 'Section-7_Platform';\n",
    "  27: 'Thornton_C-power';\n",
    "  28: 'Venise';\n",
    "  29: 'ARIAKE_TOWER';\n",
    "  30: 'Banana_River';\n",
    "  31: 'Chesapeake_Bay';\n",
    "  32: 'Gageocho_Station';\n",
    "  33: 'GOT_Seaprism';\n",
    "  34: 'HBOI';\n",
    "  35: 'Irbe_Lighthouse';\n",
    "  36: 'Lake_Erie';\n",
    "  37: 'LISCO';\n",
    "  38: 'Palgrunden';\n",
    "  39: 'Sacramento_River';\n",
    "  40: 'Socheongcho';\n",
    "  41: 'USC_SEAPRISM';\n",
    "  42: 'WaveCIS_Site_CSI_6'\n",
    "</details>"
   ]
  },
  {
   "cell_type": "markdown",
   "id": "786af101-76c6-4756-8334-6382756ff8c7",
   "metadata": {},
   "source": [
    "#### Runs the AerOC Scan:"
   ]
  },
  {
   "cell_type": "code",
   "execution_count": null,
   "id": "42a33d23-a20b-4a55-a5df-ddd2e6bc5c3c",
   "metadata": {},
   "outputs": [],
   "source": [
    "from aerocscan import AEROCSCAN"
   ]
  },
  {
   "cell_type": "markdown",
   "id": "551e4156-5be1-4349-a21d-9ea5ad616d40",
   "metadata": {},
   "source": [
    "#### Inserts the input:"
   ]
  },
  {
   "cell_type": "code",
   "execution_count": null,
   "id": "64a8f89e-ef05-4729-b321-e1ad3ba0205a",
   "metadata": {},
   "outputs": [],
   "source": [
    "dest = r'/Volumes/RSP/aeronet_oc/output'\n",
    "level = '20'\n",
    "start = '2024-1-1'\n",
    "end = '2024-12-31'\n",
    "id = 'all'\n",
    "local_time = '13:00:00'\n",
    "sensor_type = 'S2A_MSI'"
   ]
  },
  {
   "cell_type": "markdown",
   "id": "1439f78a-856e-44aa-b4c1-157cbfede246",
   "metadata": {},
   "source": [
    "#### Without band correction:\n",
    "\n",
    "Here, the shift in spectral bands between AERONET-OC and the target sensor is not corrected."
   ]
  },
  {
   "cell_type": "code",
   "execution_count": null,
   "id": "3df7e8ee-e036-4049-a250-3543a9d22c27",
   "metadata": {},
   "outputs": [],
   "source": [
    "aerocscan = AEROCSCAN(dest, level, id, start, end, local_time)\n",
    "aerocscan.run()"
   ]
  },
  {
   "cell_type": "markdown",
   "id": "49e8a93f-03cf-46e6-893c-70f4680a9119",
   "metadata": {},
   "source": [
    "#### With band correction:\n",
    "\n",
    "The shift in spectral bands between AERONET-OC and the target sensor is corrected. The sensor type is requested.\n"
   ]
  },
  {
   "cell_type": "code",
   "execution_count": null,
   "id": "2a3079b9-8c03-4dd2-9adb-b5fccb872c9e",
   "metadata": {},
   "outputs": [],
   "source": [
    "aerocscan = AEROCSCAN(dest, level, id, start, end, local_time, sensor_type)\n",
    "aerocscan.run()"
   ]
  }
 ],
 "metadata": {
  "kernelspec": {
   "display_name": "AerOC-Scan",
   "language": "python",
   "name": "aerocscan_env"
  },
  "language_info": {
   "codemirror_mode": {
    "name": "ipython",
    "version": 3
   },
   "file_extension": ".py",
   "mimetype": "text/x-python",
   "name": "python",
   "nbconvert_exporter": "python",
   "pygments_lexer": "ipython3",
   "version": "3.13.0"
  }
 },
 "nbformat": 4,
 "nbformat_minor": 5
}
